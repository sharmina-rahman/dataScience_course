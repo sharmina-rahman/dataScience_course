{
  "metadata": {
    "language_info": {
      "codemirror_mode": {
        "name": "python",
        "version": 3
      },
      "file_extension": ".py",
      "mimetype": "text/x-python",
      "name": "python",
      "nbconvert_exporter": "python",
      "pygments_lexer": "ipython3",
      "version": "3.8"
    },
    "kernelspec": {
      "name": "python",
      "display_name": "Pyolite",
      "language": "python"
    }
  },
  "nbformat_minor": 4,
  "nbformat": 4,
  "cells": [
    {
      "cell_type": "markdown",
      "source": "# My Jupyter Notebook on Skills Networks Labs\n\n",
      "metadata": {}
    },
    {
      "cell_type": "markdown",
      "source": "**Sharmina Rahman** <br>\nDesired : Data Analyst",
      "metadata": {}
    },
    {
      "cell_type": "markdown",
      "source": "*I am interested in Data science because I love challenging work. I love to understand the pattern of data*",
      "metadata": {}
    },
    {
      "cell_type": "markdown",
      "source": "### My code in cell 5 is printing the title form of a given string",
      "metadata": {}
    },
    {
      "cell_type": "code",
      "source": "name=\"sharmina rahman\"\nprint(name.title())",
      "metadata": {
        "trusted": true
      },
      "execution_count": 12,
      "outputs": [
        {
          "name": "stdout",
          "text": "Sharmina Rahman\n",
          "output_type": "stream"
        }
      ]
    },
    {
      "cell_type": "markdown",
      "source": "**This is an unordered list**\n* First Item\n* Second Item\n* Third Item\n\n**This is a numbered list**\n1. First Item\n1. Second Item\n2. Third Item\n\n[This is a Link to Google](https://www.google.com/)\n\n",
      "metadata": {}
    }
  ]
}